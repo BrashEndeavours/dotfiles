{
 "cells": [
  {
   "cell_type": "code",
   "execution_count": 587,
   "metadata": {
    "collapsed": false,
    "deletable": true,
    "editable": true
   },
   "outputs": [],
   "source": [
    "import pyqtgraph as pg\n",
    "from pyqtgraph.Qt import QtCore, QtGui\n",
    "import numpy as np\n",
    "import math\n",
    "\n",
    "from eyediagram.demo_data import demo_data\n",
    "from eyediagram.core import grid_count\n",
    "\n",
    "def init_palette(color1, color2=(255, 255, 255), counts=55):\n",
    "    \"\"\"\n",
    "    Convert the integer array `counts` to an array of RGBA values.\n",
    "    The colors assigned to the values 1 to counts.max() vary linearly\n",
    "    from `color1` to `color2`.  If `color2` is not given, (255, 255, 255)\n",
    "    is used.  The color assigned to the value 0 is (0, 0, 0), with an\n",
    "    alpha value of 0.\n",
    "    \"\"\"\n",
    "\n",
    "    m = counts.max()\n",
    "    \n",
    "    colors = np.zeros((m+1, 4), dtype=np.uint8)\n",
    "    r = np.linspace(color1[0], color2[0], m)\n",
    "    g = np.linspace(color1[1], color2[1], m)\n",
    "    b = np.linspace(color1[2], color2[2], m)\n",
    "    fifth = int(math.floor(m/2))\n",
    "    t = np.hstack((np.linspace(35, 255, fifth),\n",
    "                  np.linspace(255, 255, m-fifth)))\n",
    "                  \n",
    "    colors[1:, 0] = r\n",
    "    colors[1:, 1] = g\n",
    "    colors[1:, 2] = b\n",
    "    colors[1:, 3] = t\n",
    "    return colors\n",
    "    \n",
    "def colorize(counts, colors):\n",
    "    img = colors[counts]\n",
    "    return img"
   ]
  },
  {
   "cell_type": "code",
   "execution_count": 588,
   "metadata": {
    "collapsed": false,
    "deletable": true,
    "editable": true
   },
   "outputs": [],
   "source": [
    "# Generate image data\n",
    "y = demo_data(300, 24)\n",
    "ybounds = (-0.25, 1.25)"
   ]
  },
  {
   "cell_type": "code",
   "execution_count": 589,
   "metadata": {
    "collapsed": false,
    "deletable": true,
    "editable": true
   },
   "outputs": [],
   "source": [
    "# Compute the eye diagram image data.\n",
    "counts = grid_count(y, 48, offset=16, size=(480, 480), bounds=ybounds)"
   ]
  },
  {
   "cell_type": "code",
   "execution_count": 590,
   "metadata": {
    "collapsed": false
   },
   "outputs": [],
   "source": [
    "# Initialize the color palette\n",
    "yellow = (224, 192, 48)\n",
    "blue = (0, 0, 255)\n",
    "red = (255,0,0)\n",
    "colors = init_palette(blue, red, counts)"
   ]
  },
  {
   "cell_type": "code",
   "execution_count": 591,
   "metadata": {
    "collapsed": false,
    "deletable": true,
    "editable": true
   },
   "outputs": [],
   "source": [
    "# Convert counts to an array of RGBA values.\n",
    "img_data = colorize(counts, colors)"
   ]
  },
  {
   "cell_type": "code",
   "execution_count": null,
   "metadata": {
    "collapsed": true
   },
   "outputs": [],
   "source": []
  },
  {
   "cell_type": "code",
   "execution_count": 592,
   "metadata": {
    "collapsed": false,
    "deletable": true,
    "editable": true
   },
   "outputs": [],
   "source": [
    "#-------------------------------------------------------------------------\n",
    "# The rest of this script uses pyqtgraph to create a plot\n",
    "# of the eye diagram.\n",
    "\n",
    "pg.mkQApp()\n",
    "\n",
    "win = pg.GraphicsLayoutWidget()\n",
    "win.setWindowTitle('Eye Diagram')"
   ]
  },
  {
   "cell_type": "code",
   "execution_count": 593,
   "metadata": {
    "collapsed": false,
    "deletable": true,
    "editable": true
   },
   "outputs": [],
   "source": [
    "# A plot area with axes for displaying the image.\n",
    "p1 = win.addPlot()"
   ]
  },
  {
   "cell_type": "code",
   "execution_count": 594,
   "metadata": {
    "collapsed": false,
    "deletable": true,
    "editable": true
   },
   "outputs": [],
   "source": [
    "# ImageItem for displaying the eye diagram as an image.\n",
    "img = pg.ImageItem()\n",
    "img.setImage(img_data.astype(np.float64))\n",
    "img.setBorder(10)\n",
    "p1.addItem(img)"
   ]
  },
  {
   "cell_type": "code",
   "execution_count": 595,
   "metadata": {
    "collapsed": false,
    "deletable": true,
    "editable": true
   },
   "outputs": [],
   "source": [
    "# Set position and scale of image.\n",
    "dy = ybounds[1] - ybounds[0]\n",
    "img.scale(2./counts.shape[0], dy/counts.shape[1])\n",
    "h = counts.shape[1]\n",
    "p0 = h * ybounds[0]/dy\n",
    "img.translate(0, p0)"
   ]
  },
  {
   "cell_type": "code",
   "execution_count": 596,
   "metadata": {
    "collapsed": false,
    "deletable": true,
    "editable": true
   },
   "outputs": [],
   "source": [
    "# Show the grid lines in the plot.\n",
    "ax = p1.getAxis('left')\n",
    "ax.setGrid(192)\n",
    "ax = p1.getAxis('bottom')\n",
    "ax.setGrid(192)"
   ]
  },
  {
   "cell_type": "code",
   "execution_count": 597,
   "metadata": {
    "collapsed": false,
    "deletable": true,
    "editable": true
   },
   "outputs": [
    {
     "data": {
      "text/plain": [
       "0"
      ]
     },
     "execution_count": 597,
     "metadata": {},
     "output_type": "execute_result"
    }
   ],
   "source": [
    "# Show the plot\n",
    "win.resize(640, 480)\n",
    "win.show()\n",
    "QtGui.QApplication.instance().exec_()"
   ]
  }
 ],
 "metadata": {
  "kernelspec": {
   "display_name": "Python 2",
   "language": "python",
   "name": "python2"
  },
  "language_info": {
   "codemirror_mode": {
    "name": "ipython",
    "version": 2
   },
   "file_extension": ".py",
   "mimetype": "text/x-python",
   "name": "python",
   "nbconvert_exporter": "python",
   "pygments_lexer": "ipython2",
   "version": "2.7.12"
  }
 },
 "nbformat": 4,
 "nbformat_minor": 2
}
